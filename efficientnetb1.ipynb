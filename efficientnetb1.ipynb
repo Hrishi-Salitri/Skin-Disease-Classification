{
  "cells": [
    {
      "cell_type": "code",
      "execution_count": null,
      "metadata": {
        "id": "PCvd_wlVSd6P"
      },
      "outputs": [],
      "source": [
        "import os\n",
        "import random\n",
        "import torch\n",
        "import numpy as np\n",
        "import pandas as pd\n",
        "from PIL import Image\n",
        "from torchvision import transforms\n",
        "import shutil\n",
        "import kagglehub"
      ]
    },
    {
      "cell_type": "code",
      "execution_count": null,
      "metadata": {
        "colab": {
          "base_uri": "https://localhost:8080/"
        },
        "id": "hLjZYxCjSRxv",
        "outputId": "c0f17991-5183-44c2-ef33-9b3213ac2a08"
      },
      "outputs": [
        {
          "output_type": "stream",
          "name": "stdout",
          "text": [
            "Downloading from https://www.kaggle.com/api/v1/datasets/download/shubhamgoel27/dermnet?dataset_version_number=1...\n"
          ]
        },
        {
          "output_type": "stream",
          "name": "stderr",
          "text": [
            "100%|██████████| 1.72G/1.72G [00:21<00:00, 84.2MB/s]"
          ]
        },
        {
          "output_type": "stream",
          "name": "stdout",
          "text": [
            "Extracting files...\n"
          ]
        },
        {
          "output_type": "stream",
          "name": "stderr",
          "text": [
            "\n"
          ]
        },
        {
          "output_type": "stream",
          "name": "stdout",
          "text": [
            "Dataset downloaded to: /root/.cache/kagglehub/datasets/shubhamgoel27/dermnet/versions/1\n"
          ]
        }
      ],
      "source": [
        "# Step 1: Download Dataset\n",
        "path = kagglehub.dataset_download(\"shubhamgoel27/dermnet\")\n",
        "print(\"Dataset downloaded to:\", path)\n",
        "\n",
        "train_dir = os.path.join(path, \"train\")\n",
        "test_dir = os.path.join(path, \"test\")\n",
        "train_target_dir = \"/distributed_train\"\n",
        "test_target_dir = \"/distributed_test\""
      ]
    },
    {
      "cell_type": "code",
      "execution_count": null,
      "metadata": {
        "colab": {
          "base_uri": "https://localhost:8080/"
        },
        "id": "DcHp_4OkUS3v",
        "outputId": "033eed65-0cd6-4830-c267-66808b0e9f4f"
      },
      "outputs": [
        {
          "output_type": "stream",
          "name": "stdout",
          "text": [
            "New Train Directory: /content/dermnet_dataset/train\n",
            "New Test Directory: /content/dermnet_dataset/test\n"
          ]
        }
      ],
      "source": [
        "# Copy dataset to a simpler location in the working directory\n",
        "new_path = \"/content/dermnet_dataset\"\n",
        "!cp -r {path} {new_path}\n",
        "\n",
        "# Update train and test paths\n",
        "train_dir = os.path.join(new_path, \"train\")\n",
        "test_dir = os.path.join(new_path, \"test\")\n",
        "\n",
        "print(\"New Train Directory:\", train_dir)\n",
        "print(\"New Test Directory:\", test_dir)\n"
      ]
    },
    {
      "cell_type": "code",
      "execution_count": null,
      "metadata": {
        "colab": {
          "base_uri": "https://localhost:8080/"
        },
        "id": "C_xxb1ojWEXm",
        "outputId": "5888e6a3-06c8-4da9-f24b-5c453447a627"
      },
      "outputs": [
        {
          "output_type": "stream",
          "name": "stdout",
          "text": [
            "Train DataFrame Head:\n",
            "                                          image_path  \\\n",
            "0  /content/dermnet_dataset/train/Psoriasis pictu...   \n",
            "1  /content/dermnet_dataset/train/Psoriasis pictu...   \n",
            "2  /content/dermnet_dataset/train/Psoriasis pictu...   \n",
            "3  /content/dermnet_dataset/train/Psoriasis pictu...   \n",
            "4  /content/dermnet_dataset/train/Psoriasis pictu...   \n",
            "\n",
            "                                               label class_name  \n",
            "0  Psoriasis pictures Lichen Planus and related d...  Psoriasis  \n",
            "1  Psoriasis pictures Lichen Planus and related d...  Psoriasis  \n",
            "2  Psoriasis pictures Lichen Planus and related d...  Psoriasis  \n",
            "3  Psoriasis pictures Lichen Planus and related d...  Psoriasis  \n",
            "4  Psoriasis pictures Lichen Planus and related d...  Psoriasis  \n",
            "\n",
            "Test DataFrame Head:\n",
            "                                          image_path  \\\n",
            "0  /content/dermnet_dataset/test/Psoriasis pictur...   \n",
            "1  /content/dermnet_dataset/test/Psoriasis pictur...   \n",
            "2  /content/dermnet_dataset/test/Psoriasis pictur...   \n",
            "3  /content/dermnet_dataset/test/Psoriasis pictur...   \n",
            "4  /content/dermnet_dataset/test/Psoriasis pictur...   \n",
            "\n",
            "                                               label class_name  \n",
            "0  Psoriasis pictures Lichen Planus and related d...  Psoriasis  \n",
            "1  Psoriasis pictures Lichen Planus and related d...  Psoriasis  \n",
            "2  Psoriasis pictures Lichen Planus and related d...  Psoriasis  \n",
            "3  Psoriasis pictures Lichen Planus and related d...  Psoriasis  \n",
            "4  Psoriasis pictures Lichen Planus and related d...  Psoriasis  \n"
          ]
        }
      ],
      "source": [
        "import os\n",
        "import pandas as pd\n",
        "\n",
        "# Paths for train and test directories\n",
        "train_dir = \"/content/dermnet_dataset/train\"\n",
        "test_dir = \"/content/dermnet_dataset/test\"\n",
        "\n",
        "# Selected classes\n",
        "selected_classes = [\n",
        "    \"Psoriasis pictures Lichen Planus and related diseases\",\n",
        "    \"Tinea Ringworm Candidiasis and other Fungal Infections\",\n",
        "    \"Melanoma Skin Cancer Nevi and Moles\",\n",
        "    \"Nail Fungus and other Nail Disease\",\n",
        "    \"Acne and Rosacea Photos\",\n",
        "    \"Warts Molluscum and other Viral Infections\",\n",
        "    \"Seborrheic Keratoses and other Benign Tumors\"\n",
        "]\n",
        "\n",
        "# Function to simplify class names\n",
        "def simplify_class_name(class_name):\n",
        "    # Define a mapping for simplification\n",
        "    simplification_mapping = {\n",
        "        \"Psoriasis pictures Lichen Planus and related diseases\": \"Psoriasis\",\n",
        "        \"Tinea Ringworm Candidiasis and other Fungal Infections\": \"Fungal Infections\",\n",
        "        \"Melanoma Skin Cancer Nevi and Moles\": \"Melanoma\",\n",
        "        \"Nail Fungus and other Nail Disease\": \"Nail Fungus\",\n",
        "        \"Acne and Rosacea Photos\": \"Acne\",\n",
        "        \"Warts Molluscum and other Viral Infections\": \"Warts\",\n",
        "        \"Seborrheic Keratoses and other Benign Tumors\": \"Benign Tumors\"\n",
        "    }\n",
        "    return simplification_mapping.get(class_name, class_name)  # Default to original if not mapped\n",
        "\n",
        "# Function to create a DataFrame for a given directory\n",
        "def create_dataframe(base_dir, selected_classes):\n",
        "    data = []\n",
        "    for class_name in selected_classes:\n",
        "        class_path = os.path.join(base_dir, class_name)\n",
        "        if os.path.exists(class_path):\n",
        "            for image_name in os.listdir(class_path):\n",
        "                image_path = os.path.join(class_path, image_name)\n",
        "                simplified_class_name = simplify_class_name(class_name)\n",
        "                data.append({\"image_path\": image_path, \"label\": class_name, \"class_name\": simplified_class_name})\n",
        "    return pd.DataFrame(data)\n",
        "\n",
        "# Create DataFrames for train and test folders\n",
        "train_df = create_dataframe(train_dir, selected_classes)\n",
        "test_df = create_dataframe(test_dir, selected_classes)\n",
        "\n",
        "# Print the head of both DataFrames\n",
        "print(\"Train DataFrame Head:\")\n",
        "print(train_df.head())\n",
        "\n",
        "print(\"\\nTest DataFrame Head:\")\n",
        "print(test_df.head())\n"
      ]
    },
    {
      "cell_type": "code",
      "execution_count": null,
      "metadata": {
        "colab": {
          "base_uri": "https://localhost:8080/",
          "height": 355
        },
        "id": "rjkoiRSFWfTo",
        "outputId": "793a0f1f-0256-43cb-d43f-269290cf4957"
      },
      "outputs": [
        {
          "output_type": "execute_result",
          "data": {
            "text/plain": [
              "class_name\n",
              "Psoriasis            1405\n",
              "Benign Tumors        1371\n",
              "Fungal Infections    1300\n",
              "Warts                1086\n",
              "Nail Fungus          1040\n",
              "Acne                  840\n",
              "Melanoma              463\n",
              "Name: count, dtype: int64"
            ],
            "text/html": [
              "<div>\n",
              "<style scoped>\n",
              "    .dataframe tbody tr th:only-of-type {\n",
              "        vertical-align: middle;\n",
              "    }\n",
              "\n",
              "    .dataframe tbody tr th {\n",
              "        vertical-align: top;\n",
              "    }\n",
              "\n",
              "    .dataframe thead th {\n",
              "        text-align: right;\n",
              "    }\n",
              "</style>\n",
              "<table border=\"1\" class=\"dataframe\">\n",
              "  <thead>\n",
              "    <tr style=\"text-align: right;\">\n",
              "      <th></th>\n",
              "      <th>count</th>\n",
              "    </tr>\n",
              "    <tr>\n",
              "      <th>class_name</th>\n",
              "      <th></th>\n",
              "    </tr>\n",
              "  </thead>\n",
              "  <tbody>\n",
              "    <tr>\n",
              "      <th>Psoriasis</th>\n",
              "      <td>1405</td>\n",
              "    </tr>\n",
              "    <tr>\n",
              "      <th>Benign Tumors</th>\n",
              "      <td>1371</td>\n",
              "    </tr>\n",
              "    <tr>\n",
              "      <th>Fungal Infections</th>\n",
              "      <td>1300</td>\n",
              "    </tr>\n",
              "    <tr>\n",
              "      <th>Warts</th>\n",
              "      <td>1086</td>\n",
              "    </tr>\n",
              "    <tr>\n",
              "      <th>Nail Fungus</th>\n",
              "      <td>1040</td>\n",
              "    </tr>\n",
              "    <tr>\n",
              "      <th>Acne</th>\n",
              "      <td>840</td>\n",
              "    </tr>\n",
              "    <tr>\n",
              "      <th>Melanoma</th>\n",
              "      <td>463</td>\n",
              "    </tr>\n",
              "  </tbody>\n",
              "</table>\n",
              "</div><br><label><b>dtype:</b> int64</label>"
            ]
          },
          "metadata": {},
          "execution_count": 5
        }
      ],
      "source": [
        "train_df[\"class_name\"].value_counts()"
      ]
    },
    {
      "cell_type": "code",
      "execution_count": null,
      "metadata": {
        "colab": {
          "base_uri": "https://localhost:8080/",
          "height": 355
        },
        "id": "p0TYVWQXWrwM",
        "outputId": "5c44ca64-5cd8-480c-d09c-0aad9cf702cc"
      },
      "outputs": [
        {
          "output_type": "execute_result",
          "data": {
            "text/plain": [
              "class_name\n",
              "Psoriasis            352\n",
              "Benign Tumors        343\n",
              "Fungal Infections    325\n",
              "Acne                 312\n",
              "Warts                272\n",
              "Nail Fungus          261\n",
              "Melanoma             116\n",
              "Name: count, dtype: int64"
            ],
            "text/html": [
              "<div>\n",
              "<style scoped>\n",
              "    .dataframe tbody tr th:only-of-type {\n",
              "        vertical-align: middle;\n",
              "    }\n",
              "\n",
              "    .dataframe tbody tr th {\n",
              "        vertical-align: top;\n",
              "    }\n",
              "\n",
              "    .dataframe thead th {\n",
              "        text-align: right;\n",
              "    }\n",
              "</style>\n",
              "<table border=\"1\" class=\"dataframe\">\n",
              "  <thead>\n",
              "    <tr style=\"text-align: right;\">\n",
              "      <th></th>\n",
              "      <th>count</th>\n",
              "    </tr>\n",
              "    <tr>\n",
              "      <th>class_name</th>\n",
              "      <th></th>\n",
              "    </tr>\n",
              "  </thead>\n",
              "  <tbody>\n",
              "    <tr>\n",
              "      <th>Psoriasis</th>\n",
              "      <td>352</td>\n",
              "    </tr>\n",
              "    <tr>\n",
              "      <th>Benign Tumors</th>\n",
              "      <td>343</td>\n",
              "    </tr>\n",
              "    <tr>\n",
              "      <th>Fungal Infections</th>\n",
              "      <td>325</td>\n",
              "    </tr>\n",
              "    <tr>\n",
              "      <th>Acne</th>\n",
              "      <td>312</td>\n",
              "    </tr>\n",
              "    <tr>\n",
              "      <th>Warts</th>\n",
              "      <td>272</td>\n",
              "    </tr>\n",
              "    <tr>\n",
              "      <th>Nail Fungus</th>\n",
              "      <td>261</td>\n",
              "    </tr>\n",
              "    <tr>\n",
              "      <th>Melanoma</th>\n",
              "      <td>116</td>\n",
              "    </tr>\n",
              "  </tbody>\n",
              "</table>\n",
              "</div><br><label><b>dtype:</b> int64</label>"
            ]
          },
          "metadata": {},
          "execution_count": 6
        }
      ],
      "source": [
        "test_df[\"class_name\"].value_counts()"
      ]
    },
    {
      "cell_type": "code",
      "execution_count": null,
      "metadata": {
        "id": "cPzpeOl9b13_",
        "colab": {
          "base_uri": "https://localhost:8080/",
          "height": 1000
        },
        "outputId": "0b3f63a8-1889-4d20-b74b-9d6347be8538"
      },
      "outputs": [
        {
          "output_type": "stream",
          "name": "stdout",
          "text": [
            "Using device: cuda\n"
          ]
        },
        {
          "output_type": "stream",
          "name": "stderr",
          "text": [
            "/usr/local/lib/python3.10/dist-packages/torchvision/models/_utils.py:208: UserWarning: The parameter 'pretrained' is deprecated since 0.13 and may be removed in the future, please use 'weights' instead.\n",
            "  warnings.warn(\n",
            "/usr/local/lib/python3.10/dist-packages/torchvision/models/_utils.py:223: UserWarning: Arguments other than a weight enum or `None` for 'weights' are deprecated since 0.13 and may be removed in the future. The current behavior is equivalent to passing `weights=EfficientNet_B1_Weights.IMAGENET1K_V1`. You can also use `weights=EfficientNet_B1_Weights.DEFAULT` to get the most up-to-date weights.\n",
            "  warnings.warn(msg)\n"
          ]
        },
        {
          "output_type": "stream",
          "name": "stdout",
          "text": [
            "\n",
            "Epoch 1/30\n"
          ]
        },
        {
          "output_type": "stream",
          "name": "stderr",
          "text": [
            "Epoch 1: 100%|██████████| 308/308 [02:36<00:00,  1.97batch/s, accuracy=68.9, loss=0.78]\n"
          ]
        },
        {
          "output_type": "stream",
          "name": "stdout",
          "text": [
            "Validation Loss: 0.7588, Validation Accuracy: 70.65%\n",
            "New best model saved as 'best_model_checkpoint.pth'\n",
            "\n",
            "Epoch 2/30\n"
          ]
        },
        {
          "output_type": "stream",
          "name": "stderr",
          "text": [
            "Epoch 2: 100%|██████████| 308/308 [02:38<00:00,  1.94batch/s, accuracy=80.6, loss=0.483]\n"
          ]
        },
        {
          "output_type": "stream",
          "name": "stdout",
          "text": [
            "Validation Loss: 0.6811, Validation Accuracy: 75.84%\n",
            "New best model saved as 'best_model_checkpoint.pth'\n",
            "\n",
            "Epoch 3/30\n"
          ]
        },
        {
          "output_type": "stream",
          "name": "stderr",
          "text": [
            "Epoch 3: 100%|██████████| 308/308 [02:39<00:00,  1.94batch/s, accuracy=83.9, loss=0.384]\n"
          ]
        },
        {
          "output_type": "stream",
          "name": "stdout",
          "text": [
            "Validation Loss: 0.6204, Validation Accuracy: 76.32%\n",
            "New best model saved as 'best_model_checkpoint.pth'\n",
            "\n",
            "Epoch 4/30\n"
          ]
        },
        {
          "output_type": "stream",
          "name": "stderr",
          "text": [
            "Epoch 4: 100%|██████████| 308/308 [02:38<00:00,  1.94batch/s, accuracy=86, loss=0.332]\n"
          ]
        },
        {
          "output_type": "stream",
          "name": "stdout",
          "text": [
            "Validation Loss: 0.6012, Validation Accuracy: 79.45%\n",
            "New best model saved as 'best_model_checkpoint.pth'\n",
            "\n",
            "Epoch 5/30\n"
          ]
        },
        {
          "output_type": "stream",
          "name": "stderr",
          "text": [
            "Epoch 5: 100%|██████████| 308/308 [02:40<00:00,  1.92batch/s, accuracy=87.1, loss=0.308]\n"
          ]
        },
        {
          "output_type": "stream",
          "name": "stdout",
          "text": [
            "Validation Loss: 0.5936, Validation Accuracy: 79.22%\n",
            "New best model saved as 'best_model_checkpoint.pth'\n",
            "\n",
            "Epoch 6/30\n"
          ]
        },
        {
          "output_type": "stream",
          "name": "stderr",
          "text": [
            "Epoch 6: 100%|██████████| 308/308 [02:51<00:00,  1.80batch/s, accuracy=88.3, loss=0.287]\n"
          ]
        },
        {
          "output_type": "stream",
          "name": "stdout",
          "text": [
            "Validation Loss: 0.6803, Validation Accuracy: 77.99%\n",
            "\n",
            "Epoch 7/30\n"
          ]
        },
        {
          "output_type": "stream",
          "name": "stderr",
          "text": [
            "Epoch 7: 100%|██████████| 308/308 [02:40<00:00,  1.92batch/s, accuracy=90.2, loss=0.253]\n"
          ]
        },
        {
          "output_type": "stream",
          "name": "stdout",
          "text": [
            "Validation Loss: 0.6008, Validation Accuracy: 80.02%\n",
            "\n",
            "Epoch 8/30\n"
          ]
        },
        {
          "output_type": "stream",
          "name": "stderr",
          "text": [
            "Epoch 8: 100%|██████████| 308/308 [02:39<00:00,  1.94batch/s, accuracy=89.7, loss=0.243]\n"
          ]
        },
        {
          "output_type": "stream",
          "name": "stdout",
          "text": [
            "Validation Loss: 0.7174, Validation Accuracy: 77.70%\n",
            "\n",
            "Epoch 9/30\n"
          ]
        },
        {
          "output_type": "stream",
          "name": "stderr",
          "text": [
            "Epoch 9:  44%|████▍     | 137/308 [01:11<01:29,  1.91batch/s, accuracy=90.8, loss=0.226]\n"
          ]
        },
        {
          "output_type": "error",
          "ename": "KeyboardInterrupt",
          "evalue": "",
          "traceback": [
            "\u001b[0;31m---------------------------------------------------------------------------\u001b[0m",
            "\u001b[0;31mKeyboardInterrupt\u001b[0m                         Traceback (most recent call last)",
            "\u001b[0;32m<ipython-input-11-338baa77d710>\u001b[0m in \u001b[0;36m<cell line: 98>\u001b[0;34m()\u001b[0m\n\u001b[1;32m    100\u001b[0m \u001b[0;34m\u001b[0m\u001b[0m\n\u001b[1;32m    101\u001b[0m     \u001b[0;31m# Training\u001b[0m\u001b[0;34m\u001b[0m\u001b[0;34m\u001b[0m\u001b[0m\n\u001b[0;32m--> 102\u001b[0;31m     \u001b[0mtrain_loss\u001b[0m\u001b[0;34m,\u001b[0m \u001b[0mtrain_accuracy\u001b[0m \u001b[0;34m=\u001b[0m \u001b[0mtrain\u001b[0m\u001b[0;34m(\u001b[0m\u001b[0mmodel\u001b[0m\u001b[0;34m,\u001b[0m \u001b[0mtrain_loader\u001b[0m\u001b[0;34m,\u001b[0m \u001b[0mcriterion\u001b[0m\u001b[0;34m,\u001b[0m \u001b[0moptimizer\u001b[0m\u001b[0;34m,\u001b[0m \u001b[0mepoch\u001b[0m\u001b[0;34m)\u001b[0m\u001b[0;34m\u001b[0m\u001b[0;34m\u001b[0m\u001b[0m\n\u001b[0m\u001b[1;32m    103\u001b[0m     \u001b[0mtrain_losses\u001b[0m\u001b[0;34m.\u001b[0m\u001b[0mappend\u001b[0m\u001b[0;34m(\u001b[0m\u001b[0mtrain_loss\u001b[0m\u001b[0;34m)\u001b[0m\u001b[0;34m\u001b[0m\u001b[0;34m\u001b[0m\u001b[0m\n\u001b[1;32m    104\u001b[0m     \u001b[0mtrain_accuracies\u001b[0m\u001b[0;34m.\u001b[0m\u001b[0mappend\u001b[0m\u001b[0;34m(\u001b[0m\u001b[0mtrain_accuracy\u001b[0m\u001b[0;34m)\u001b[0m\u001b[0;34m\u001b[0m\u001b[0;34m\u001b[0m\u001b[0m\n",
            "\u001b[0;32m<ipython-input-11-338baa77d710>\u001b[0m in \u001b[0;36mtrain\u001b[0;34m(model, train_loader, criterion, optimizer, epoch)\u001b[0m\n\u001b[1;32m     52\u001b[0m \u001b[0;34m\u001b[0m\u001b[0m\n\u001b[1;32m     53\u001b[0m             \u001b[0;31m# Update running loss and accuracy\u001b[0m\u001b[0;34m\u001b[0m\u001b[0;34m\u001b[0m\u001b[0m\n\u001b[0;32m---> 54\u001b[0;31m             \u001b[0mrunning_loss\u001b[0m \u001b[0;34m+=\u001b[0m \u001b[0mloss\u001b[0m\u001b[0;34m.\u001b[0m\u001b[0mitem\u001b[0m\u001b[0;34m(\u001b[0m\u001b[0;34m)\u001b[0m\u001b[0;34m\u001b[0m\u001b[0;34m\u001b[0m\u001b[0m\n\u001b[0m\u001b[1;32m     55\u001b[0m             \u001b[0m_\u001b[0m\u001b[0;34m,\u001b[0m \u001b[0mpredicted\u001b[0m \u001b[0;34m=\u001b[0m \u001b[0mtorch\u001b[0m\u001b[0;34m.\u001b[0m\u001b[0mmax\u001b[0m\u001b[0;34m(\u001b[0m\u001b[0moutputs\u001b[0m\u001b[0;34m,\u001b[0m \u001b[0;36m1\u001b[0m\u001b[0;34m)\u001b[0m\u001b[0;34m\u001b[0m\u001b[0;34m\u001b[0m\u001b[0m\n\u001b[1;32m     56\u001b[0m             \u001b[0mtotal\u001b[0m \u001b[0;34m+=\u001b[0m \u001b[0mlabels\u001b[0m\u001b[0;34m.\u001b[0m\u001b[0msize\u001b[0m\u001b[0;34m(\u001b[0m\u001b[0;36m0\u001b[0m\u001b[0;34m)\u001b[0m\u001b[0;34m\u001b[0m\u001b[0;34m\u001b[0m\u001b[0m\n",
            "\u001b[0;31mKeyboardInterrupt\u001b[0m: "
          ]
        }
      ],
      "source": [
        "#updated code to efficientnetb1\n",
        "\n",
        "import torch\n",
        "import torch.nn as nn\n",
        "import torch.optim as optim\n",
        "from torchvision import models\n",
        "from tqdm import tqdm\n",
        "import time\n",
        "import os\n",
        "\n",
        "# Check if GPU is available\n",
        "device = torch.device(\"cuda\" if torch.cuda.is_available() else \"cpu\")\n",
        "print(f\"Using device: {device}\")\n",
        "\n",
        "model = models.efficientnet_b1(pretrained=False)\n",
        "\n",
        "for param in model.features.parameters():\n",
        "    param.requires_grad = False\n",
        "\n",
        "num_classes = len(selected_classes)  # 7 classes\n",
        "model.classifier[1] = nn.Linear(model.classifier[1].in_features, num_classes)\n",
        "model = model.to(device)\n",
        "criterion = nn.CrossEntropyLoss()\n",
        "optimizer = optim.Adam(filter(lambda p: p.requires_grad, model.parameters()), lr=0.001)\n",
        "\n",
        "#training and validation loops\n",
        "def train(model, train_loader, criterion, optimizer, epoch):\n",
        "    model.train()\n",
        "    running_loss = 0.0\n",
        "    correct = 0\n",
        "    total = 0\n",
        "\n",
        "    #progress bar\n",
        "    with tqdm(train_loader, unit=\"batch\") as tepoch:\n",
        "        for images, labels in tepoch:\n",
        "            tepoch.set_description(f\"Epoch {epoch + 1}\")\n",
        "            images, labels = images.to(device), labels.to(device)\n",
        "            outputs = model(images)\n",
        "            loss = criterion(outputs, labels)\n",
        "\n",
        "            optimizer.zero_grad()\n",
        "            loss.backward()\n",
        "            optimizer.step()\n",
        "\n",
        "            running_loss += loss.item()\n",
        "            _, predicted = torch.max(outputs, 1)\n",
        "            total += labels.size(0)\n",
        "            correct += (predicted == labels).sum().item()\n",
        "            accuracy = 100 * correct / total\n",
        "\n",
        "            tepoch.set_postfix(loss=running_loss / (total / train_loader.batch_size), accuracy=accuracy)\n",
        "\n",
        "    return running_loss / len(train_loader), accuracy\n",
        "\n",
        "\n",
        "def validate(model, test_loader, criterion):\n",
        "    model.eval()\n",
        "    running_loss = 0.0\n",
        "    correct = 0\n",
        "    total = 0\n",
        "\n",
        "    with torch.no_grad():\n",
        "        for images, labels in test_loader:\n",
        "            images, labels = images.to(device), labels.to(device)\n",
        "\n",
        "            #forward pass\n",
        "            outputs = model(images)\n",
        "            loss = criterion(outputs, labels)\n",
        "\n",
        "            running_loss += loss.item()\n",
        "            _, predicted = torch.max(outputs, 1)\n",
        "            total += labels.size(0)\n",
        "            correct += (predicted == labels).sum().item()\n",
        "\n",
        "    accuracy = 100 * correct / total\n",
        "    return running_loss / len(test_loader), accuracy\n",
        "\n",
        "\n",
        "#training with checkpoints\n",
        "num_epochs = 30\n",
        "train_losses, train_accuracies = [], []\n",
        "val_losses, val_accuracies = [], []\n",
        "best_val_loss = float(\"inf\")\n",
        "checkpoint_path = \"best_model_checkpoint.pth\"\n",
        "\n",
        "for epoch in range(num_epochs):\n",
        "    print(f\"\\nEpoch {epoch + 1}/{num_epochs}\")\n",
        "\n",
        "    #training\n",
        "    train_loss, train_accuracy = train(model, train_loader, criterion, optimizer, epoch)\n",
        "    train_losses.append(train_loss)\n",
        "    train_accuracies.append(train_accuracy)\n",
        "\n",
        "    #validation\n",
        "    val_loss, val_accuracy = validate(model, test_loader, criterion)\n",
        "    val_losses.append(val_loss)\n",
        "    val_accuracies.append(val_accuracy)\n",
        "\n",
        "    print(f\"Validation Loss: {val_loss:.4f}, Validation Accuracy: {val_accuracy:.2f}%\")\n",
        "\n",
        "    # Save model checkpoint if loss improves\n",
        "    if val_loss < best_val_loss:\n",
        "        best_val_loss = val_loss\n",
        "        torch.save(model.state_dict(), checkpoint_path)\n",
        "        print(f\"New best model saved as '{checkpoint_path}'\")\n",
        "\n",
        "print(\"\\nTraining complete. Best model saved as 'best_model_checkpoint.pth'\")\n"
      ]
    }
  ],
  "metadata": {
    "accelerator": "GPU",
    "colab": {
      "gpuType": "T4",
      "provenance": []
    },
    "kernelspec": {
      "display_name": "Python 3",
      "name": "python3"
    },
    "language_info": {
      "name": "python"
    }
  },
  "nbformat": 4,
  "nbformat_minor": 0
}